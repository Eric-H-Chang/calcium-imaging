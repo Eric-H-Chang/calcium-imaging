{
 "cells": [
  {
   "cell_type": "markdown",
   "metadata": {},
   "source": [
    "## Pipeline for microendoscopic data processing in CaImAn using the CNMF-E algorithm\n",
    "This demo presents a complete pipeline for processing microendoscopic data using CaImAn. It includes:\n",
    "- Motion Correction using the NoRMCorre algorithm\n",
    "- Source extraction using the CNMF-E algorithm\n",
    "- Deconvolution using the OASIS algorithm\n",
    "\n",
    "Some basic visualization is also included. The demo illustrates how to `params`, `MoctionCorrection` and `cnmf` object for processing 1p microendoscopic data. For processing two-photon data consult the related `demo_pipeline.ipynb` demo. For more information see the companion CaImAn paper."
   ]
  },
  {
   "cell_type": "code",
   "execution_count": null,
   "metadata": {},
   "outputs": [],
   "source": [
    "try:\n",
    "    get_ipython().magic(u'load_ext autoreload')\n",
    "    get_ipython().magic(u'autoreload 2')\n",
    "    get_ipython().magic(u'matplotlib qt')\n",
    "except:\n",
    "    pass\n",
    "\n",
    "import logging\n",
    "import matplotlib.pyplot as plt\n",
    "import numpy as np\n",
    "\n",
    "logging.basicConfig(format=\n",
    "                          \"%(relativeCreated)12d [%(filename)s:%(funcName)20s():%(lineno)s] [%(process)d] %(message)s\",\n",
    "                    # filename=\"/tmp/caiman.log\",\n",
    "                    level=logging.DEBUG)\n",
    "\n",
    "import caiman as cm\n",
    "from caiman.source_extraction import cnmf\n",
    "from caiman.utils.utils import download_demo\n",
    "from caiman.utils.visualization import inspect_correlation_pnr, nb_inspect_correlation_pnr\n",
    "from caiman.motion_correction import MotionCorrect\n",
    "from caiman.source_extraction.cnmf import params as params\n",
    "from caiman.utils.visualization import plot_contours, nb_view_patches, nb_plot_contour\n",
    "import cv2\n",
    "\n",
    "try:\n",
    "    cv2.setNumThreads(0)\n",
    "except:\n",
    "    pass\n",
    "import bokeh.plotting as bpl\n",
    "import holoviews as hv\n",
    "bpl.output_notebook()\n",
    "hv.notebook_extension('bokeh')"
   ]
  },
  {
   "cell_type": "markdown",
   "metadata": {},
   "source": [
    "### Select file(s) to be processed\n",
    "The `download_demo` function will download the specific file for you and return the complete path to the file which will be stored in your `caiman_data` directory. If you adapt this demo for your data make sure to pass the complete path to your file(s). Remember to pass the `fnames` variable as a list. Note that the memory requirement of the CNMF-E algorithm are much higher compared to the standard CNMF algorithm. Test the limits of your system before trying to process very large amounts of data."
   ]
  },
  {
   "cell_type": "code",
   "execution_count": null,
   "metadata": {},
   "outputs": [],
   "source": [
    "fnames = [f'C:\\\\ENTER_FILE_DIRECTORY_HERE\\\\msCam{i}.tif' for i in range(0, 2)]  # filename to be processed\n",
    "#i list ends +1 from last video name\n",
    "#fnames = [download_demo(fnames[0])]\n",
    "print(fnames)"
   ]
  },
  {
   "cell_type": "code",
   "execution_count": null,
   "metadata": {
    "scrolled": true
   },
   "outputs": [],
   "source": [
    "print(fnames)"
   ]
  },
  {
   "cell_type": "code",
   "execution_count": null,
   "metadata": {},
   "outputs": [],
   "source": [
    "fname_base = ''\n",
    "for i in range(len(fnames[0])-1,0,-1):\n",
    "    fname_base = fnames[0][0:i]\n",
    "    if(fnames[0][i] == '\\\\'): \n",
    "        fname_base = fnames[0][0:i]\n",
    "        break\n",
    "print(fname_base)"
   ]
  },
  {
   "cell_type": "markdown",
   "metadata": {},
   "source": [
    "### Setup a cluster\n",
    "To enable parallel processing a (local) cluster needs to be set up. This is done with a cell below. The variable `backend` determines the type of cluster used. The default value `'local'` uses the multiprocessing package. The `ipyparallel` option is also available. More information on these choices can be found [here](https://github.com/flatironinstitute/CaImAn/blob/master/CLUSTER.md). The resulting variable `dview` expresses the cluster option. If you use `dview=dview` in the downstream analysis then parallel processing will be used. If you use `dview=None` then no parallel processing will be employed."
   ]
  },
  {
   "cell_type": "code",
   "execution_count": null,
   "metadata": {},
   "outputs": [],
   "source": [
    "#%% start a cluster for parallel processing (if a cluster already exists it will be closed and a new session will be opened)\n",
    "if 'dview' in locals():\n",
    "    cm.stop_server(dview=dview)\n",
    "c, dview, n_processes = cm.cluster.setup_cluster(\n",
    "    backend='local', n_processes=None, single_thread=False)\n"
   ]
  },
  {
   "cell_type": "markdown",
   "metadata": {},
   "source": [
    "### Setup some parameters\n",
    "We first set some parameters related to the data and motion correction and create a `params` object. We'll modify this object with additional settings later on. You can also set all the parameters at once as demonstrated in the `demo_pipeline.ipynb` notebook."
   ]
  },
  {
   "cell_type": "code",
   "execution_count": null,
   "metadata": {
    "scrolled": true
   },
   "outputs": [],
   "source": [
    "# dataset dependent parameters\n",
    "frate = 20                       # movie frame rate\n",
    "decay_time = 0.4                 # length of a typical transient in seconds\n",
    "\n",
    "# motion correction parameters\n",
    "motion_correct = True # flag for performing motion correction\n",
    "pw_rigid = False    # flag for performing piecewise-rigid motion correction (otherwise just rigid)\n",
    "gSig_filt = (10, 10)       # size of high pass spatial filtering, used in 1p data\n",
    "max_shifts = (80, 80)      # maximum allowed rigid shift\n",
    "strides = (48, 48)       # start a new patch for pw-rigid motion correction every x pixels\n",
    "overlaps = (24, 24)      # overlap between pathes (size of patch strides+overlaps)\n",
    "max_deviation_rigid = 2  # maximum deviation allowed for patch with respect to rigid shifts\n",
    "border_nan = 'copy'      # replicate values along the boundaries\n",
    "useCuda = True \n",
    "mc_dict = {\n",
    "    'fnames': fnames,\n",
    "    'fr': frate,\n",
    "    'decay_time': decay_time,\n",
    "    'pw_rigid': pw_rigid,\n",
    "    'max_shifts': max_shifts,\n",
    "    'gSig_filt': gSig_filt,\n",
    "    'strides': strides,\n",
    "    'overlaps': overlaps,\n",
    "    'max_deviation_rigid': max_deviation_rigid,\n",
    "    'border_nan': border_nan\n",
    "    ,'use_cuda': False\n",
    "}\n",
    "\n",
    "opts = params.CNMFParams(params_dict=mc_dict)\n"
   ]
  },
  {
   "cell_type": "markdown",
   "metadata": {},
   "source": [
    "### Motion Correction\n",
    "The background signal in micro-endoscopic data is very strong and makes the motion correction challenging. \n",
    "As a first step the algorithm performs a high pass spatial filtering with a Gaussian kernel to remove the bulk of the background and enhance spatial landmarks. \n",
    "The size of the kernel is given from the parameter `gSig_filt`. If this is left to the default value of `None` then no spatial filtering is performed (default option, used in 2p data).\n",
    "After spatial filtering, the NoRMCorre algorithm is used to determine the motion in each frame. The inferred motion is then applied to the *original* data so no information is lost.\n",
    "\n",
    "The motion corrected files are saved in memory mapped format. If no motion correction is being performed, then the file gets directly memory mapped."
   ]
  },
  {
   "cell_type": "code",
   "execution_count": null,
   "metadata": {
    "scrolled": true
   },
   "outputs": [],
   "source": [
    "    if motion_correct:\n",
    "        # do motion correction rigid\n",
    "        mc = MotionCorrect(fnames, dview=dview, **opts.get_group('motion'))\n",
    "        mc.motion_correct(save_movie=True)\n",
    "        fname_mc = mc.fname_tot_els if pw_rigid else mc.fname_tot_rig\n",
    "        if pw_rigid:\n",
    "            bord_px = np.ceil(np.maximum(np.max(np.abs(mc.x_shifts_els)),\n",
    "                                         np.max(np.abs(mc.y_shifts_els)))).astype(np.int)\n",
    "        else:\n",
    "            bord_px = np.ceil(np.max(np.abs(mc.shifts_rig))).astype(np.int)\n",
    "            plt.subplot(1, 2, 1); plt.imshow(mc.total_template_rig)  # % plot template\n",
    "            plt.subplot(1, 2, 2); plt.plot(mc.shifts_rig)  # % plot rigid shifts\n",
    "            plt.legend(['x shifts', 'y shifts'])\n",
    "            plt.xlabel('frames')\n",
    "            plt.ylabel('pixels')\n",
    "\n",
    "        bord_px = 0 if border_nan is 'copy' else bord_px\n",
    "        fname_new = cm.save_memmap(fname_mc, base_name='memmap_', order='C',\n",
    "                                   border_to_0=bord_px)\n",
    "    else:  # if no motion correction just memory map the file\n",
    "        fname_new = cm.save_memmap(fnames, base_name='memmap_',\n",
    "                                   order='C', border_to_0=0, dview=dview)"
   ]
  },
  {
   "cell_type": "code",
   "execution_count": null,
   "metadata": {},
   "outputs": [],
   "source": [
    "# Start here if you do not want to create any more motion corrected objects..."
   ]
  },
  {
   "cell_type": "code",
   "execution_count": null,
   "metadata": {},
   "outputs": [],
   "source": [
    "print(fname_new)"
   ]
  },
  {
   "cell_type": "code",
   "execution_count": null,
   "metadata": {},
   "outputs": [],
   "source": [
    "Yr, dims, T = cm.load_memmap(fname_new)\n",
    "images = Yr.T.reshape((T,) + dims, order='F')\n",
    "\n",
    "images = np.array(images)\n",
    "type(images)\n",
    "#print(images)\n",
    "directory = fname_base + '\\\\DFF\\\\'\n",
    "\n",
    "import os\n",
    "if not os.path.exists(directory):\n",
    "    os.mkdir(directory)"
   ]
  },
  {
   "cell_type": "code",
   "execution_count": null,
   "metadata": {},
   "outputs": [],
   "source": [
    "import tifffile\n",
    "\n",
    "tifffile.imsave(directory + 'entire_motion_corrected.tif',images)\n",
    "\n",
    "#for img in train_images:\n",
    "    #import scipy.misc\n",
    "    #scipy.misc.imsave(path + str(num)  + '.tif', img)\n",
    "    #num +=1"
   ]
  },
  {
   "cell_type": "code",
   "execution_count": null,
   "metadata": {
    "scrolled": false
   },
   "outputs": [],
   "source": [
    "import os\n",
    "from caiman.base import movies\n",
    "directory = fname_base + '\\\\DFF\\\\'\n",
    "if not os.path.exists(directory):\n",
    "    os.mkdir(directory)\n",
    "fnames = []\n",
    "\n",
    "count = 0\n",
    "\n",
    "integ = 0; \n",
    "for i in range(int(np.shape(images)[0]/1000)): #cut dff movie into smaller chunks\n",
    "    dff_x = images[count:count+1000,:,:]\n",
    "    count = count+1000\n",
    "    tifffile.imsave(directory + 'mc'+str(i)+'.tif',dff_x)\n",
    "    fnames.append(directory + 'mc'+str(i)+'.tif')\n",
    "    integ = i; \n",
    "    \n",
    "if(np.shape(images)[0] % 1000 is not 0):\n",
    "    dff_x = images[count:,:,:]\n",
    "    tifffile.imsave(directory + ''+str(integ+1)+'.tif',dff_x)\n",
    "    fnames.append(directory + ''+str(integ+1)+'.tif')\n",
    "\n",
    "movie_glut = movies.load(fnames)\n",
    "if np.min(movie_glut)<= 0:\n",
    "    movie_glut[movie_glut<=0]=1\n",
    "dff = movies.movie.computeDFF(movie_glut,method='delta_f_over_f')\n",
    "\n",
    "dff= dff[0]"
   ]
  },
  {
   "cell_type": "code",
   "execution_count": null,
   "metadata": {},
   "outputs": [],
   "source": [
    "dff.save(directory + 'dff_entire.tif')"
   ]
  },
  {
   "cell_type": "code",
   "execution_count": null,
   "metadata": {},
   "outputs": [],
   "source": [
    "print(np.min(movie_glut))"
   ]
  },
  {
   "cell_type": "code",
   "execution_count": null,
   "metadata": {},
   "outputs": [],
   "source": [
    "dff.shape"
   ]
  },
  {
   "cell_type": "code",
   "execution_count": null,
   "metadata": {},
   "outputs": [],
   "source": [
    "from caiman.base import movies\n",
    "import os\n",
    "#change to dff movie\n",
    "if not 'movie_glut' in locals():\n",
    "    movie_glut = movies.load(fnames)\n",
    "#dff = movies.movie.computeDFF(movie_glut,method='delta_f_over_f')\n",
    "#dff = dff[0]\n",
    "#directory = fname_base + '\\\\DFF'\n",
    "#if not os.path.exists(directory):\n",
    "    #os.mkdir(directory)\n",
    "fnames = []\n",
    "\n",
    "#dff.save(directory + 'entire_tiff.tif')\n",
    "count = 0\n",
    "\n",
    "integ = 0; \n",
    "for i in range(int(np.shape(dff)[0]/1000)): #cut dff movie into smaller chunks\n",
    "    dff_x = dff[count:count+1000,:,:]\n",
    "    count = count+1000\n",
    "    dff_x.save(directory + '\\\\dff'+str(i)+'.tif')\n",
    "    fnames.append(directory + '\\\\dff'+str(i)+'.tif')\n",
    "    integ = i; \n",
    "    \n",
    "if(np.shape(dff)[0] % 1000 is not 0):\n",
    "    dff_x = dff[count:,:,:]\n",
    "    dff_x.save(directory + '\\\\dff'+str(integ+1)+'.tif')\n",
    "    fnames.append(directory + '\\\\dff'+str(integ+1)+'.tif')"
   ]
  },
  {
   "cell_type": "markdown",
   "metadata": {},
   "source": [
    "### Load memory mapped file"
   ]
  },
  {
   "cell_type": "code",
   "execution_count": null,
   "metadata": {},
   "outputs": [],
   "source": [
    "print(fnames)"
   ]
  },
  {
   "cell_type": "code",
   "execution_count": null,
   "metadata": {},
   "outputs": [],
   "source": [
    "fname_new = cm.save_memmap(fnames, base_name='memmap_1',\n",
    "                                   order='C', border_to_0=0, dview=dview)\n",
    "\n",
    "Yr, dims, T = cm.load_memmap(fname_new)\n",
    "images = Yr.T.reshape((T,) + dims, order='F')"
   ]
  },
  {
   "cell_type": "code",
   "execution_count": null,
   "metadata": {},
   "outputs": [],
   "source": [
    "load_prev_mask = False"
   ]
  },
  {
   "cell_type": "code",
   "execution_count": null,
   "metadata": {},
   "outputs": [],
   "source": [
    "import pickle"
   ]
  },
  {
   "cell_type": "code",
   "execution_count": null,
   "metadata": {},
   "outputs": [],
   "source": [
    "prev_mask_path = '10-29-20-IL-10-ROIs.pkl'"
   ]
  },
  {
   "cell_type": "code",
   "execution_count": null,
   "metadata": {},
   "outputs": [],
   "source": [
    "if load_prev_mask:  # : defined above among the parameters\n",
    "    with open(prev_mask_path, 'rb') as f:\n",
    "        Ain = pickle.load(f)  # loads previously computed cnmf object\n",
    "        rf = None\n",
    "        print('AIN LOADED')\n",
    "        only_init = False\n",
    "\n",
    "else:\n",
    "    Ain = None \n",
    "    rf = 36 \n",
    "    #only_init = True \n"
   ]
  },
  {
   "cell_type": "markdown",
   "metadata": {},
   "source": [
    "### Parameter setting for CNMF-E\n",
    "We now define some parameters for the source extraction step using the CNMF-E algorithm. \n",
    "We construct a new dictionary and use this to modify the *existing* `params` object,"
   ]
  },
  {
   "cell_type": "code",
   "execution_count": null,
   "metadata": {
    "tags": []
   },
   "outputs": [],
   "source": [
    "# parameters for source extraction and deconvolution\n",
    "p = 1               # order of the autoregressive system\n",
    "K = None            # upper bound on number of components per patch, in general None\n",
    "\n",
    "#K = 20 \n",
    "gSig = (8, 8)       # gaussian width of a 2D gaussian kernel, which approximates a neuron\n",
    "gSiz = (33, 33)     # average diameter of a neuron, in general 4*gSig+1\n",
    "Ain = None          # possibility to seed with predetermined binary masks\n",
    "\n",
    "#merge_thr = .8     # merging threshold, max correlation allowed\n",
    "merge_thr = 0.999\n",
    "rf = 36             # half-size of the patches in pixels. e.g., if rf=40, patches are 80x80\n",
    "stride_cnmf = 25    # amount of overlap between the patches in pixels\n",
    "#                     (keep it at least large as gSiz, i.e 4 times the neuron size gSig)\n",
    "#tsub = 2            # downsampling factor in time for initialization,\n",
    "tsub = 1\n",
    "#                     increase if you have memory problems\n",
    "ssub = 2            # downsampling factor in space for initialization,\n",
    "#                     increase if you have memory problems\n",
    "#                     you can pass them here as boolean vectors\n",
    "low_rank_background = None  # None leaves background of each patch intact,\n",
    "#                     True performs global low-rank approximation if gnb>0\n",
    "#gnb = 0             # number of background components (rank) if positive,\n",
    "\n",
    "gnb = -1 \n",
    "#                     else exact ring model with following settings\n",
    "#                         gnb= 0: Return background as b and W\n",
    "#                         gnb=-1: Return full rank background B\n",
    "#                         gnb<-1: Don't return background\n",
    "nb_patch = 0        # number of background components (rank) per patch if gnb>0,\n",
    "#                     else it is set automatically\n",
    "#min_corr = .75       # min peak value from correlation image\n",
    "\n",
    "min_corr = 0.6\n",
    "min_pnr = 4        # min peak to noise ration from PNR image; lower to 3 if neuron number too low\n",
    "ssub_B = 2         # additional downsampling factor in space for background\n",
    "ring_size_factor = 1  # radius of ring is gSiz*ring_size_factor\n",
    "\n",
    "opts.change_params(params_dict={'method_init': 'corr_pnr',  # use this for 1 photon\n",
    "                                'K': K,\n",
    "                                'gSig': gSig,\n",
    "                                'gSiz': gSiz,\n",
    "                                'merge_thr': merge_thr,\n",
    "                                'p': p,\n",
    "                                'tsub': tsub,\n",
    "                                'ssub': ssub,\n",
    "                                #'rf': rf,\n",
    "                                'stride': stride_cnmf,\n",
    "                                #'only_init': only_init,    # set it to True to run CNMF-E\n",
    "                                'nb': gnb,\n",
    "                                'nb_patch': nb_patch,\n",
    "                                'method_deconvolution': 'oasis',       # could use 'cvxpy' alternatively\n",
    "                                #'method_deconvolution': 'cvxpy',       # could use 'cvxpy' alternatively\n",
    "                                'low_rank_background': low_rank_background,\n",
    "                                'update_background_components': True,  # sometimes setting to False improve the results\n",
    "                                'min_corr': min_corr,\n",
    "                                'min_pnr': min_pnr,\n",
    "                                'normalize_init': False,               # just leave as is\n",
    "                                'center_psf': True,                    # leave as is for 1 photon\n",
    "                                'ssub_B': ssub_B,\n",
    "                                'ring_size_factor': ring_size_factor,\n",
    "                                'del_duplicates': True, \n",
    "                                 #'use_cuda': True\n",
    "                                # whether to remove duplicates from initialization\n",
    "                                #'border_pix': bord_px\n",
    "                                })                # number of pixels to not consider in the borders)"
   ]
  },
  {
   "cell_type": "code",
   "execution_count": null,
   "metadata": {},
   "outputs": [],
   "source": [
    "print(n_processes)"
   ]
  },
  {
   "cell_type": "markdown",
   "metadata": {},
   "source": [
    "### Inspect summary images and set parameters\n",
    "Check the optimal values of `min_corr` and `min_pnr` by moving slider in the figure that pops up. You can modify them in the `params` object. \n",
    "Note that computing the correlation pnr image can be computationally and memory demanding for large datasets. In this case you can compute\n",
    "only on a subset of the data (the results will not change). You can do that by changing `images[::1]` to `images[::5]` or something similar.\n",
    "This will compute the correlation pnr image"
   ]
  },
  {
   "cell_type": "code",
   "execution_count": null,
   "metadata": {
    "scrolled": false
   },
   "outputs": [],
   "source": [
    "# compute some summary images (correlation and peak to noise)\n",
    "cn_filter, pnr = cm.summary_images.correlation_pnr(images[::1], gSig=gSig[0], swap_dim=False) # change swap dim if output looks weird, it is a problem with tiffile\n",
    "# inspect the summary images and set the parameters\n",
    "nb_inspect_correlation_pnr(cn_filter, pnr)"
   ]
  },
  {
   "cell_type": "markdown",
   "metadata": {},
   "source": [
    "\n",
    "\n",
    "You can inspect the correlation and PNR images to select the threshold values for `min_corr` and `min_pnr`. The algorithm will look for components only in places where these value are above the specified thresholds. You can adjust the dynamic range in the plots shown above by choosing the selection tool (third button from the left) and selecting the desired region in the histogram plots on the right of each panel."
   ]
  },
  {
   "cell_type": "code",
   "execution_count": null,
   "metadata": {},
   "outputs": [],
   "source": [
    "# print parameters set above, modify them if necessary based on summary images\n",
    "print(min_corr) # min correlation of peak (from correlation image)\n",
    "print(min_pnr)  # min peak to noise ratio"
   ]
  },
  {
   "cell_type": "code",
   "execution_count": null,
   "metadata": {},
   "outputs": [],
   "source": [
    "trace_information = [[],[],[],[],[]] #first row to last is sn, y_diff, b, ci_before, ci_after "
   ]
  },
  {
   "cell_type": "code",
   "execution_count": null,
   "metadata": {
    "scrolled": true,
    "tags": []
   },
   "outputs": [],
   "source": [
    "# does the fitting as originally; after component evaluation, this version of the mask is saved below for later use\n",
    "    #Ain_test = Ain.toarray() > 0.094; #.095 is the limit (exclusive so use <=.94)\n",
    "    \n",
    "if load_prev_mask:\n",
    "    Ain_test = Ain.toarray() > 0.05 \n",
    "    cnm = cnmf.CNMF(n_processes=n_processes, dview = dview, params=opts)\n",
    "    cnm.estimates.A = Ain_test \n",
    "else:\n",
    "    cnm = cnmf.CNMF(n_processes=n_processes, dview=dview, Ain=Ain, params=opts)\n",
    "cnm.fit(images)"
   ]
  },
  {
   "cell_type": "markdown",
   "metadata": {},
   "source": [
    "### Run the CNMF-E algorithm"
   ]
  },
  {
   "cell_type": "code",
   "execution_count": null,
   "metadata": {},
   "outputs": [],
   "source": [
    "print(cnm.params.to_dict())"
   ]
  },
  {
   "cell_type": "markdown",
   "metadata": {},
   "source": [
    "### Alternate way to run the pipeline at once\n",
    "It is possible to run the combined steps of motion correction, memory mapping, and cnmf fitting in one step as shown below. The command is commented out since the analysis has already been performed. It is recommended that you familiriaze yourself with the various steps and the results of the various steps before using it."
   ]
  },
  {
   "cell_type": "code",
   "execution_count": null,
   "metadata": {},
   "outputs": [],
   "source": [
    "import pickle \n",
    "print(pickle.format_version)\n",
    "print(images.size)"
   ]
  },
  {
   "cell_type": "code",
   "execution_count": null,
   "metadata": {},
   "outputs": [],
   "source": [
    "# cnm1 = cnmf.CNMF(n_processes, params=opts, dview=dview)\n",
    "# cnm1.fit_file(motion_correct=motion_correct)\n",
    "print(cnm.estimates.coordinates)"
   ]
  },
  {
   "cell_type": "code",
   "execution_count": null,
   "metadata": {},
   "outputs": [],
   "source": [
    "from platform import python_version\n",
    "\n",
    "print(python_version())"
   ]
  },
  {
   "cell_type": "markdown",
   "metadata": {},
   "source": [
    "## Component Evaluation\n",
    "\n",
    "The processing in patches creates several spurious components. These are filtered out by evaluating each component using three different criteria:\n",
    "\n",
    "- the shape of each component must be correlated with the data at the corresponding location within the FOV\n",
    "- a minimum peak SNR is required over the length of a transient\n",
    "- each shape passes a CNN based classifier\n",
    "\n",
    "<img src=\"../../docs/img/evaluationcomponent.png\"/>\n",
    "After setting some parameters we again modify the existing `params` object."
   ]
  },
  {
   "cell_type": "code",
   "execution_count": null,
   "metadata": {},
   "outputs": [],
   "source": [
    "\n",
    "\n",
    "#%% COMPONENT EVALUATION\n",
    "# the components are evaluated in three ways:\n",
    "#   a) the shape of each component must be correlated with the data\n",
    "#   b) a minimum peak SNR is required over the length of a transient\n",
    "#   c) each shape passes a CNN based classifier\n",
    "cnn_thr = 0.99              # threshold for CNN based classifier; default .99 \n",
    "cnn_lowest = 0    \n",
    "min_SNR = 1            # adaptive way to set threshold on the transient size\n",
    "r_values_min = 0.5 # threshold on space consistency (if you lower more components\n",
    "#                        will be accepted, potentially with worst quality)\n",
    "cnm.params.set('quality', {'min_SNR': min_SNR,\n",
    "                           'rval_thr': r_values_min,\n",
    "                                       'use_cnn': True,\n",
    "            #'min_cnn_thr': cnn_thr,\n",
    "            #'cnn_lowest': cnn_lowest\n",
    "                          })\n",
    "\n",
    "cnm.estimates.dims = dims\n",
    "cnm.estimates.evaluate_components(images, cnm.params, dview = dview)\n",
    "\n",
    "print(' ***** ')\n",
    "print('Number of total components: ', len(cnm.estimates.C))\n",
    "print('Number of accepted components: ', len(cnm.estimates.idx_components))"
   ]
  },
  {
   "cell_type": "markdown",
   "metadata": {},
   "source": [
    "### Do some plotting"
   ]
  },
  {
   "cell_type": "markdown",
   "metadata": {},
   "source": [
    "### Setup a cluster\n",
    "To enable parallel processing a (local) cluster needs to be set up. This is done with a cell below. The variable `backend` determines the type of cluster used. The default value `'local'` uses the multiprocessing package. The `ipyparallel` option is also available. More information on these choices can be found [here](https://github.com/flatironinstitute/CaImAn/blob/master/CLUSTER.md). The resulting variable `dview` expresses the cluster option. If you use `dview=dview` in the downstream analysis then parallel processing will be used. If you use `dview=None` then no parallel processing will be employed."
   ]
  },
  {
   "cell_type": "markdown",
   "metadata": {},
   "source": [
    "### Do some plotting"
   ]
  },
  {
   "cell_type": "code",
   "execution_count": null,
   "metadata": {
    "scrolled": true
   },
   "outputs": [],
   "source": [
    "#%% plot contour plots of accepted and rejected components\n",
    "cnm.estimates.dims = dims\n",
    "cnm.estimates.plot_contours_nb(img=cn_filter, idx=cnm.estimates.idx_components)\n",
    "print(cnm.estimates.coordinates)"
   ]
  },
  {
   "cell_type": "code",
   "execution_count": null,
   "metadata": {
    "scrolled": true
   },
   "outputs": [],
   "source": [
    "print(cnm.estimates.idx_components_bad)"
   ]
  },
  {
   "cell_type": "code",
   "execution_count": null,
   "metadata": {
    "jupyter": {
     "outputs_hidden": true
    }
   },
   "outputs": [],
   "source": [
    "# import caiman.source_extraction.cnmf.utilities\n",
    "# cnm.utilities.computeDFF_traces()"
   ]
  },
  {
   "cell_type": "code",
   "execution_count": null,
   "metadata": {},
   "outputs": [],
   "source": [
    "# print(Yr)"
   ]
  },
  {
   "cell_type": "code",
   "execution_count": null,
   "metadata": {
    "jupyter": {
     "outputs_hidden": true
    }
   },
   "outputs": [],
   "source": [
    "cnm.estimates.F_dff = cnmf.utilities.computeDFF_traces(Yr,cnm.estimates.A,cnm.estimates.C,cnm.estimates.bl )"
   ]
  },
  {
   "cell_type": "markdown",
   "metadata": {},
   "source": [
    "View traces of accepted and rejected components. Note that if you get data rate error you can start Jupyter notebooks using:\n",
    "'jupyter notebook --NotebookApp.iopub_data_rate_limit=1.0e10'"
   ]
  },
  {
   "cell_type": "code",
   "execution_count": null,
   "metadata": {},
   "outputs": [],
   "source": [
    "# accepted components\n",
    "cnm.estimates.hv_view_components(img=cn_filter, idx=cnm.estimates.idx_components,\n",
    "                                denoised_color='red', cmap='gray')"
   ]
  },
  {
   "cell_type": "code",
   "execution_count": null,
   "metadata": {},
   "outputs": [],
   "source": [
    "# rejected components\n",
    "cnm.estimates.hv_view_components(img=cn_filter, idx=cnm.estimates.idx_components_bad,\n",
    "                                denoised_color='red', cmap='gray')"
   ]
  },
  {
   "cell_type": "code",
   "execution_count": null,
   "metadata": {},
   "outputs": [],
   "source": [
    "print(cnm.estimates.coordinates)"
   ]
  },
  {
   "cell_type": "code",
   "execution_count": null,
   "metadata": {
    "scrolled": false
   },
   "outputs": [],
   "source": [
    "cnm.estimates.nb_view_components(img=cn_filter, denoised_color='red')\n",
    "print('you may need to change the data rate to generate this one: use jupyter notebook --NotebookApp.iopub_data_rate_limit=1.0e10 before opening jupyter notebook')"
   ]
  },
  {
   "cell_type": "code",
   "execution_count": null,
   "metadata": {},
   "outputs": [],
   "source": [
    "#PICK GOOD ROIS AS good_idx\n",
    "\n",
    "idx = list(range(0,0)) # TODO - change the range to 0, max neuron number\n",
    "\n",
    "#bad_idx = cnm.estimates.idx_components_bad\n",
    "\n",
    "good_idx = []\n",
    "good_idx[:] = [number - 1 for number in good_idx]\n",
    "print(good_idx)\n",
    "bad_idx = np.delete(idx,good_idx)"
   ]
  },
  {
   "cell_type": "code",
   "execution_count": null,
   "metadata": {},
   "outputs": [],
   "source": [
    "cnm_mod = cnm.estimates.select_components(good_idx)"
   ]
  },
  {
   "cell_type": "code",
   "execution_count": null,
   "metadata": {},
   "outputs": [],
   "source": [
    "coords = cnm.estimates.coordinates\n",
    "print(coords)\n",
    "import pickle\n",
    "comps = {}\n",
    "comps['C_array'] = cnm.estimates.C\n",
    "#comps['F_df'] = F_df\n",
    "#comps['C_df'] = C_df\n",
    "comps['A_array'] = cnm.estimates.A\n",
    "comps['S_array'] = cnm.estimates.S\n",
    "comps['coords'] = coords\n",
    "comps['accept'] = cnm.estimates.idx_components\n",
    "comps['reject'] = cnm.estimates.idx_components_bad\n",
    "\n",
    "#CHANGE PKL FILE NAME FOR EACH EXPERIMENT!!!\n",
    "pickle.dump( comps, open( f'C:\\\\ENTER_FILE_DIRECTORY_HERE-[0,1)'+ '.pkl', \"wb\" ))"
   ]
  },
  {
   "cell_type": "code",
   "execution_count": null,
   "metadata": {},
   "outputs": [],
   "source": [
    "print(cnm.estimates.C)"
   ]
  },
  {
   "cell_type": "code",
   "execution_count": null,
   "metadata": {},
   "outputs": [],
   "source": [
    "# Can stop running code here"
   ]
  },
  {
   "cell_type": "markdown",
   "metadata": {},
   "source": [
    "### Stop cluster"
   ]
  },
  {
   "cell_type": "code",
   "execution_count": null,
   "metadata": {},
   "outputs": [],
   "source": [
    "bad_idx"
   ]
  },
  {
   "cell_type": "code",
   "execution_count": null,
   "metadata": {},
   "outputs": [],
   "source": [
    "print(good_idx)"
   ]
  },
  {
   "cell_type": "code",
   "execution_count": null,
   "metadata": {},
   "outputs": [],
   "source": [
    "cnm_mod = cnm.estimates.select_components(good_idx)"
   ]
  },
  {
   "cell_type": "code",
   "execution_count": null,
   "metadata": {},
   "outputs": [],
   "source": [
    "print(merge_thr)"
   ]
  },
  {
   "cell_type": "code",
   "execution_count": null,
   "metadata": {},
   "outputs": [],
   "source": [
    "#%% Extract DF/F values\n",
    "cnm.estimates.detrend_df_f(flag_auto=True)"
   ]
  },
  {
   "cell_type": "code",
   "execution_count": null,
   "metadata": {},
   "outputs": [],
   "source": [
    "cnm.estimates.computeDFF?"
   ]
  },
  {
   "cell_type": "code",
   "execution_count": null,
   "metadata": {},
   "outputs": [],
   "source": [
    "cnm.estimates.F_dff?"
   ]
  },
  {
   "cell_type": "code",
   "execution_count": null,
   "metadata": {},
   "outputs": [],
   "source": [
    "trace = a[0,:]\n",
    "plt.plot(trace)\n",
    "plt.show"
   ]
  },
  {
   "cell_type": "code",
   "execution_count": null,
   "metadata": {
    "jupyter": {
     "outputs_hidden": true
    },
    "tags": []
   },
   "outputs": [],
   "source": [
    "def extract_DF_F(Yr, A, C, bl, quantileMin=8, frames_window=200, block_size=400, dview=None):\n",
    "    \"\"\" Compute DFF function from cnmf output.\n",
    "\n",
    "     Disclaimer: it might be memory inefficient\n",
    "\n",
    "    Args:\n",
    "        Yr: ndarray (2D)\n",
    "            movie pixels X time\n",
    "\n",
    "        A: scipy.sparse.coo_matrix\n",
    "            spatial components (from cnmf cnm.A)\n",
    "\n",
    "        C: ndarray\n",
    "            temporal components (from cnmf cnm.C)\n",
    "\n",
    "        bl: ndarray\n",
    "            baseline for each component (from cnmf cnm.bl)\n",
    "\n",
    "        quantile_min: float\n",
    "            quantile minimum of the\n",
    "\n",
    "        frames_window: int\n",
    "            number of frames for running quantile\n",
    "\n",
    "    Returns:\n",
    "        Cdf:\n",
    "            the computed Calcium acitivty to the derivative of f\n",
    "\n",
    "    See Also:\n",
    "        ..image::docs/img/onlycnmf.png\n",
    "    \"\"\"\n",
    "    import scipy\n",
    "    import numpy as np\n",
    "    from caiman.mmapping import parallel_dot_product, load_memmap\n",
    "    nA = np.array(np.sqrt(A.power(2).sum(0)).T)\n",
    "    A = scipy.sparse.coo_matrix(A / nA.T)\n",
    "    C = C * nA\n",
    "    bl = (bl * nA.T).squeeze()\n",
    "    nA = np.array(np.sqrt(A.power(2).sum(0)).T)\n",
    "\n",
    "    T = C.shape[-1]\n",
    "    if 'memmap' in str(type(Yr)):\n",
    "        if block_size >= 500:\n",
    "            print('Forcing single thread for memory issues')\n",
    "            dview_res = None\n",
    "        else:\n",
    "            print('Using thread. If memory issues set block_size larger than 500')\n",
    "            dview_res = dview\n",
    "\n",
    "        AY = parallel_dot_product(Yr, A, dview=dview_res, block_size=block_size,\n",
    "                                  transpose=True).T\n",
    "    else:\n",
    "        AY = A.T.dot(Yr)\n",
    "        \n",
    "    print(AY)\n",
    "    \n",
    "    bas_val = bl[None, :]\n",
    "    Bas = np.repeat(bas_val, T, 0).T\n",
    "    AA = A.T.dot(A)\n",
    "    AA.setdiag(0)\n",
    "    Cf = (C - Bas) * (nA**2)\n",
    "    C2 = AY - AA.dot(C)\n",
    "    print(C2)\n",
    "    if frames_window is None or frames_window > T:\n",
    "        Df = np.percentile(C2, quantileMin, axis=1)\n",
    "        C_df = Cf / Df[:, None]\n",
    "\n",
    "    else:\n",
    "        Df = scipy.ndimage.percentile_filter(\n",
    "            C2, quantileMin, (frames_window, 1))\n",
    "        C_df = Cf / Df\n",
    "    print('printing C_df')\n",
    "    print(C_df)\n",
    "    return C_df\n",
    "\n",
    "C_df = extract_DF_F(Yr, cnm.estimates.A, cnm.estimates.C, cnm.estimates.bl, quantileMin=8, frames_window=200)\n",
    "import matplotlib.pyplot as plt\n",
    "a = np.array(C_df[0,:])\n",
    "plt.plot(a)\n"
   ]
  },
  {
   "cell_type": "code",
   "execution_count": null,
   "metadata": {},
   "outputs": [],
   "source": [
    "a = cnm.estimates.F_dff\n",
    "\n",
    "for i in range(0,len(a[:,0])):\n",
    "    trace = a[i,:]\n",
    "    import matplotlib.pyplot as plt\n",
    "    plt.plot(trace)\n",
    "plt.show"
   ]
  },
  {
   "cell_type": "code",
   "execution_count": null,
   "metadata": {},
   "outputs": [],
   "source": [
    "a = cnm.estimates.F_dff\n",
    "\n",
    "good_roi = []\n",
    "good_roi[:] = [j - 1 for j in good_roi]\n",
    "for i in good_roi:\n",
    "    trace = a[i,:]\n",
    "    import matplotlib.pyplot as plt\n",
    "    plt.plot(trace)\n",
    "plt.show"
   ]
  },
  {
   "cell_type": "code",
   "execution_count": null,
   "metadata": {},
   "outputs": [],
   "source": [
    "a = cnm.estimates.C\n",
    "\n",
    "for i in range(0,len(a[:,0])):\n",
    "    trace = a[i,:]\n",
    "    import matplotlib.pyplot as plt\n",
    "    plt.plot(trace)\n",
    "plt.show()"
   ]
  },
  {
   "cell_type": "code",
   "execution_count": null,
   "metadata": {},
   "outputs": [],
   "source": [
    "a = cnm.estimates.C\n",
    "\n",
    "trace = a[0,:]\n",
    "plt.plot(trace)\n",
    "plt.show()"
   ]
  },
  {
   "cell_type": "code",
   "execution_count": null,
   "metadata": {},
   "outputs": [],
   "source": [
    "print(good_roi)"
   ]
  },
  {
   "cell_type": "markdown",
   "metadata": {},
   "source": [
    "### Stop cluster"
   ]
  },
  {
   "cell_type": "markdown",
   "metadata": {},
   "source": [
    "### Some instructive movies\n",
    "Play the reconstructed movie alongside the original movie and the (amplified) residual"
   ]
  },
  {
   "cell_type": "code",
   "execution_count": null,
   "metadata": {},
   "outputs": [],
   "source": [
    "idx=cnm.estimates.idx_components\n",
    "print(idx)"
   ]
  },
  {
   "cell_type": "code",
   "execution_count": null,
   "metadata": {
    "tags": []
   },
   "outputs": [],
   "source": [
    "save_results = True\n",
    "if save_results:\n",
    "    cnm.save('03-10-22-SecondRecording-[31,38).hdf5')"
   ]
  },
  {
   "cell_type": "code",
   "execution_count": null,
   "metadata": {},
   "outputs": [],
   "source": []
  }
 ],
 "metadata": {
  "anaconda-cloud": {},
  "kernelspec": {
   "display_name": "Python 3",
   "language": "python",
   "name": "python3"
  },
  "language_info": {
   "codemirror_mode": {
    "name": "ipython",
    "version": 3
   },
   "file_extension": ".py",
   "mimetype": "text/x-python",
   "name": "python",
   "nbconvert_exporter": "python",
   "pygments_lexer": "ipython3",
   "version": "3.8.8"
  }
 },
 "nbformat": 4,
 "nbformat_minor": 4
}
